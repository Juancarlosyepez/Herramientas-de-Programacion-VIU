{
 "cells": [
  {
   "cell_type": "markdown",
   "metadata": {},
   "source": [
    "# EJERCICIOS CON STRING (cadenas de caracteres)"
   ]
  },
  {
   "cell_type": "markdown",
   "metadata": {},
   "source": [
    "### EJERCICIO 1 - Identificador valido\n",
    "**Para que los identificadores o nombres de las variables o funciones sean\n",
    "válidos deben comenzar e incluir letras a..z. (minúscula o mayúscula) o el guión bajo (_).\n",
    "Pueden incluir también números (0..9) pero que no sean el primer carácter del identificador.\n",
    "Diseña una función FirstChar(s) que, dado un string s (no vacío), nos devuelva True o False\n",
    "si el string es válido o no para identificar o dar nombre a una variable o función.**"
   ]
  },
  {
   "cell_type": "code",
   "execution_count": 2,
   "metadata": {},
   "outputs": [],
   "source": [
    "# Importar la libreria para expresiones regulares\n",
    "import re \n",
    "\n",
    "def FirstChar(s):\n",
    "    if s[0].isdigit() == True: # verfica si el primer caracter de la variable es digito\n",
    "        valor = False\n",
    "    else:\n",
    "        reg_exp = \"\\w+$\" #expresion regular para encontrar valores alfanumericos incluido guion bajo\n",
    "        valor = re.match(reg_exp, s) is not None # analiza la cadena verificando si cumple la expresion regular dentro de la cadena\n",
    "    print(valor)"
   ]
  },
  {
   "cell_type": "code",
   "execution_count": 3,
   "metadata": {},
   "outputs": [
    {
     "name": "stdout",
     "output_type": "stream",
     "text": [
      "True\n"
     ]
    }
   ],
   "source": [
    "FirstChar('paciente001')"
   ]
  },
  {
   "cell_type": "code",
   "execution_count": 4,
   "metadata": {},
   "outputs": [
    {
     "name": "stdout",
     "output_type": "stream",
     "text": [
      "True\n"
     ]
    }
   ],
   "source": [
    "FirstChar('P001')"
   ]
  },
  {
   "cell_type": "code",
   "execution_count": 5,
   "metadata": {},
   "outputs": [
    {
     "name": "stdout",
     "output_type": "stream",
     "text": [
      "False\n"
     ]
    }
   ],
   "source": [
    "FirstChar('1Pac')"
   ]
  },
  {
   "cell_type": "code",
   "execution_count": 6,
   "metadata": {},
   "outputs": [
    {
     "name": "stdout",
     "output_type": "stream",
     "text": [
      "True\n"
     ]
    }
   ],
   "source": [
    "FirstChar('_001')"
   ]
  },
  {
   "cell_type": "code",
   "execution_count": 8,
   "metadata": {},
   "outputs": [
    {
     "name": "stdout",
     "output_type": "stream",
     "text": [
      "False\n"
     ]
    }
   ],
   "source": [
    "FirstChar(':p001')"
   ]
  },
  {
   "cell_type": "markdown",
   "metadata": {},
   "source": [
    "### EJERCICIO 2 - Porcentaje de Vocales\n",
    "**Escribe una función porcentVocal(s) en que dado un string s, la \n",
    "función devuelva el porcentaje de vocales que contiene el string. Deben considerarse vocales\n",
    "minúsculas y mayúsculas. Devolver el resultado con un decimal de precisión.\n",
    "Consideraremos que las vocales están sin tilde o acento gráfico. Se valorará prever el caso que\n",
    "se envíe como argumento un string vacío.**"
   ]
  },
  {
   "cell_type": "code",
   "execution_count": 9,
   "metadata": {},
   "outputs": [],
   "source": [
    "def porcentVocal(s):\n",
    "    \n",
    "    vocales = 'aeiouAEIOU'\n",
    "    nvocales = len([c for c in s if c in vocales]) #cuenta y guarda el numero de vocales de la cadena\n",
    "    if len(s) != 0: #valida si la candidad de caracteres es diferente de cero\n",
    "        porcentaje = round(nvocales/len(s)*100,1) # calcula el porcentaje redondeado a 1 cifra decimal\n",
    "    else:\n",
    "        porcentaje = 'ingrese cadena'\n",
    "    print(porcentaje)"
   ]
  },
  {
   "cell_type": "code",
   "execution_count": 10,
   "metadata": {},
   "outputs": [
    {
     "name": "stdout",
     "output_type": "stream",
     "text": [
      "50.0\n"
     ]
    }
   ],
   "source": [
    "porcentVocal('Hola')"
   ]
  },
  {
   "cell_type": "code",
   "execution_count": 11,
   "metadata": {},
   "outputs": [
    {
     "name": "stdout",
     "output_type": "stream",
     "text": [
      "66.7\n"
     ]
    }
   ],
   "source": [
    "porcentVocal('Acacia')"
   ]
  },
  {
   "cell_type": "code",
   "execution_count": 12,
   "metadata": {},
   "outputs": [
    {
     "name": "stdout",
     "output_type": "stream",
     "text": [
      "0.0\n"
     ]
    }
   ],
   "source": [
    "porcentVocal('Brrrrrrr')"
   ]
  },
  {
   "cell_type": "code",
   "execution_count": 13,
   "metadata": {},
   "outputs": [
    {
     "name": "stdout",
     "output_type": "stream",
     "text": [
      "100.0\n"
     ]
    }
   ],
   "source": [
    "porcentVocal('aAe')"
   ]
  },
  {
   "cell_type": "markdown",
   "metadata": {},
   "source": [
    "### EJERCICIO 3- Nuevo String\n",
    "**Diseña una función nuevo_string (s, n) que, dado un string s y un entero \n",
    "n ≥ 0, devuelva el string resultante de repetir cada vocal de s exactamente n veces en el lugar\n",
    "donde se encuentra situada en s.**"
   ]
  },
  {
   "cell_type": "code",
   "execution_count": 16,
   "metadata": {},
   "outputs": [],
   "source": [
    "def nuevo_string(s,n):\n",
    "    vocales = 'aeiouAEIOU'\n",
    "    nueva_cadena = \"\"             #nueva variable donde se guardara la nueva cadena\n",
    "    for x in s:\n",
    "        indice = vocales.find(x)  #obtiene el indice de cada caracter de la cadena\n",
    "        if indice != -1:          #si el indice es diferente -1 quiere decir que si existe el caracter\n",
    "            nueva_cadena +=  x*n  #incrementa y multiplica la vocal n veces\n",
    "        else:                     \n",
    "            nueva_cadena += x     #incrementa caracter diferente a vocal\n",
    "    print(f\"'{nueva_cadena}'\")    "
   ]
  },
  {
   "cell_type": "code",
   "execution_count": 17,
   "metadata": {},
   "outputs": [
    {
     "name": "stdout",
     "output_type": "stream",
     "text": [
      "'Chaarleestoon'\n"
     ]
    }
   ],
   "source": [
    "nuevo_string('Charleston',2)"
   ]
  },
  {
   "cell_type": "code",
   "execution_count": 18,
   "metadata": {},
   "outputs": [
    {
     "name": "stdout",
     "output_type": "stream",
     "text": [
      "'RDT11'\n"
     ]
    }
   ],
   "source": [
    "nuevo_string('RDT11',1)"
   ]
  },
  {
   "cell_type": "code",
   "execution_count": 19,
   "metadata": {},
   "outputs": [
    {
     "name": "stdout",
     "output_type": "stream",
     "text": [
      "'H2OOO'\n"
     ]
    }
   ],
   "source": [
    "nuevo_string('H2O',3)"
   ]
  },
  {
   "cell_type": "code",
   "execution_count": null,
   "metadata": {},
   "outputs": [],
   "source": []
  }
 ],
 "metadata": {
  "kernelspec": {
   "display_name": "Python 3",
   "language": "python",
   "name": "python3"
  },
  "language_info": {
   "codemirror_mode": {
    "name": "ipython",
    "version": 3
   },
   "file_extension": ".py",
   "mimetype": "text/x-python",
   "name": "python",
   "nbconvert_exporter": "python",
   "pygments_lexer": "ipython3",
   "version": "3.7.6"
  }
 },
 "nbformat": 4,
 "nbformat_minor": 4
}
