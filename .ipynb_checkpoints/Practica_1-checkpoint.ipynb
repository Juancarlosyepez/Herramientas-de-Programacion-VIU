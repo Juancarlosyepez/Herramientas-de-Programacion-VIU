{
 "cells": [
  {
   "cell_type": "markdown",
   "metadata": {},
   "source": [
    "# EJERCICIOS CON STRING (cadenas de caracteres)"
   ]
  },
  {
   "cell_type": "markdown",
   "metadata": {},
   "source": [
    "### EJERCICIO 1 - Identificador valido\n",
    "**Para que los identificadores o nombres de las variables o funciones sean\n",
    "válidos deben comenzar e incluir letras a..z. (minúscula o mayúscula) o el guión bajo (_).\n",
    "Pueden incluir también números (0..9) pero que no sean el primer carácter del identificador.\n",
    "Diseña una función FirstChar(s) que, dado un string s (no vacío), nos devuelva True o False\n",
    "si el string es válido o no para identificar o dar nombre a una variable o función.**"
   ]
  },
  {
   "cell_type": "code",
   "execution_count": 2,
   "metadata": {},
   "outputs": [],
   "source": [
    "# Importar la libreria para expresiones regulares\n",
    "import re \n",
    "\n",
    "def FirstChar(s):\n",
    "    if s[0].isdigit() == True: # verfica si el primer caracter de la variable es digito\n",
    "        valor = False\n",
    "    else:\n",
    "        reg_exp = \"\\w+$\" #expresion regular para encontrar valores alfanumericos incluido guion bajo\n",
    "        valor = re.match(reg_exp, s) is not None # analiza la cadena verificando si cumple la expresion regular dentro de la cadena\n",
    "    print(valor)"
   ]
  },
  {
   "cell_type": "code",
   "execution_count": 3,
   "metadata": {},
   "outputs": [
    {
     "name": "stdout",
     "output_type": "stream",
     "text": [
      "True\n"
     ]
    }
   ],
   "source": [
    "FirstChar('paciente001')"
   ]
  },
  {
   "cell_type": "code",
   "execution_count": 4,
   "metadata": {},
   "outputs": [
    {
     "name": "stdout",
     "output_type": "stream",
     "text": [
      "True\n"
     ]
    }
   ],
   "source": [
    "FirstChar('P001')"
   ]
  },
  {
   "cell_type": "code",
   "execution_count": 5,
   "metadata": {},
   "outputs": [
    {
     "name": "stdout",
     "output_type": "stream",
     "text": [
      "False\n"
     ]
    }
   ],
   "source": [
    "FirstChar('1Pac')"
   ]
  },
  {
   "cell_type": "code",
   "execution_count": 6,
   "metadata": {},
   "outputs": [
    {
     "name": "stdout",
     "output_type": "stream",
     "text": [
      "True\n"
     ]
    }
   ],
   "source": [
    "FirstChar('_001')"
   ]
  },
  {
   "cell_type": "code",
   "execution_count": 8,
   "metadata": {},
   "outputs": [
    {
     "name": "stdout",
     "output_type": "stream",
     "text": [
      "False\n"
     ]
    }
   ],
   "source": [
    "FirstChar(':p001')"
   ]
  },
  {
   "cell_type": "markdown",
   "metadata": {},
   "source": [
    "### EJERCICIO 2 - Porcentaje de Vocales\n",
    "**Escribe una función porcentVocal(s) en que dado un string s, la \n",
    "función devuelva el porcentaje de vocales que contiene el string. Deben considerarse vocales\n",
    "minúsculas y mayúsculas. Devolver el resultado con un decimal de precisión.\n",
    "Consideraremos que las vocales están sin tilde o acento gráfico. Se valorará prever el caso que\n",
    "se envíe como argumento un string vacío.**"
   ]
  },
  {
   "cell_type": "code",
   "execution_count": 9,
   "metadata": {},
   "outputs": [],
   "source": [
    "def porcentVocal(s):\n",
    "    \n",
    "    vocales = 'aeiouAEIOU'\n",
    "    nvocales = len([c for c in s if c in vocales]) #cuenta y guarda el numero de vocales de la cadena\n",
    "    if len(s) != 0: #valida si la candidad de caracteres es diferente de cero\n",
    "        porcentaje = round(nvocales/len(s)*100,1) # calcula el porcentaje redondeado a 1 cifra decimal\n",
    "    else:\n",
    "        porcentaje = 'ingrese cadena'\n",
    "    print(porcentaje)"
   ]
  },
  {
   "cell_type": "code",
   "execution_count": 10,
   "metadata": {},
   "outputs": [
    {
     "name": "stdout",
     "output_type": "stream",
     "text": [
      "50.0\n"
     ]
    }
   ],
   "source": [
    "porcentVocal('Hola')"
   ]
  },
  {
   "cell_type": "code",
   "execution_count": 11,
   "metadata": {},
   "outputs": [
    {
     "name": "stdout",
     "output_type": "stream",
     "text": [
      "66.7\n"
     ]
    }
   ],
   "source": [
    "porcentVocal('Acacia')"
   ]
  },
  {
   "cell_type": "code",
   "execution_count": 12,
   "metadata": {},
   "outputs": [
    {
     "name": "stdout",
     "output_type": "stream",
     "text": [
      "0.0\n"
     ]
    }
   ],
   "source": [
    "porcentVocal('Brrrrrrr')"
   ]
  },
  {
   "cell_type": "code",
   "execution_count": 13,
   "metadata": {},
   "outputs": [
    {
     "name": "stdout",
     "output_type": "stream",
     "text": [
      "100.0\n"
     ]
    }
   ],
   "source": [
    "porcentVocal('aAe')"
   ]
  },
  {
   "cell_type": "markdown",
   "metadata": {},
   "source": [
    "### EJERCICIO 3- Nuevo String\n",
    "**Diseña una función nuevo_string (s, n) que, dado un string s y un entero \n",
    "n ≥ 0, devuelva el string resultante de repetir cada vocal de s exactamente n veces en el lugar\n",
    "donde se encuentra situada en s.**"
   ]
  },
  {
   "cell_type": "code",
   "execution_count": 16,
   "metadata": {},
   "outputs": [],
   "source": [
    "def nuevo_string(s,n):\n",
    "    vocales = 'aeiouAEIOU'\n",
    "    nueva_cadena = \"\"             #nueva variable donde se guardara la nueva cadena\n",
    "    for x in s:\n",
    "        indice = vocales.find(x)  #obtiene el indice de cada caracter de la cadena\n",
    "        if indice != -1:          #si el indice es diferente -1 quiere decir que si existe el caracter\n",
    "            nueva_cadena +=  x*n  #incrementa y multiplica la vocal n veces\n",
    "        else:                     \n",
    "            nueva_cadena += x     #incrementa caracter diferente a vocal\n",
    "    print(f\"'{nueva_cadena}'\")    "
   ]
  },
  {
   "cell_type": "code",
   "execution_count": 17,
   "metadata": {},
   "outputs": [
    {
     "name": "stdout",
     "output_type": "stream",
     "text": [
      "'Chaarleestoon'\n"
     ]
    }
   ],
   "source": [
    "nuevo_string('Charleston',2)"
   ]
  },
  {
   "cell_type": "code",
   "execution_count": 18,
   "metadata": {},
   "outputs": [
    {
     "name": "stdout",
     "output_type": "stream",
     "text": [
      "'RDT11'\n"
     ]
    }
   ],
   "source": [
    "nuevo_string('RDT11',1)"
   ]
  },
  {
   "cell_type": "code",
   "execution_count": 19,
   "metadata": {},
   "outputs": [
    {
     "name": "stdout",
     "output_type": "stream",
     "text": [
      "'H2OOO'\n"
     ]
    }
   ],
   "source": [
    "nuevo_string('H2O',3)"
   ]
  },
  {
   "cell_type": "markdown",
   "metadata": {},
   "source": [
    "### EJERCICIO 4 - Notas de Página\n",
    "**Diseña una función notas_al_pie(s) que, dado un string s formado \n",
    "sólo por letras, signos de puntuación y asteriscos que indican una llamada a una nota al pie\n",
    "de página, devuelva un string donde cada asterisco es sustituido por un número entre\n",
    "paréntesis que indica el número de nota. El primer * se substituye por (1), el segundo por (2),\n",
    "etc.**"
   ]
  },
  {
   "cell_type": "code",
   "execution_count": 1,
   "metadata": {},
   "outputs": [],
   "source": [
    "def notas_al_pie(s):\n",
    "    subcaracter = '*'\n",
    "    nueva_nota = \"\"\n",
    "    n = 0\n",
    "    for c in s:\n",
    "        indice = subcaracter.find(c) #obtiene el indice de cada caracter de la cadena\n",
    "        if indice != -1:            #si el indice es diferente -1 quiere decir que si existe el caracter\n",
    "            n += 1\n",
    "            nueva_nota +=  \"(\" + str(n) + \")\"   #ingresa el caracter a la nueva variable con la vocal multiplicada n veces\n",
    "        else:\n",
    "            nueva_nota += c \n",
    "    print(f\"'{nueva_nota}'\")    "
   ]
  },
  {
   "cell_type": "code",
   "execution_count": 2,
   "metadata": {},
   "outputs": [
    {
     "name": "stdout",
     "output_type": "stream",
     "text": [
      "'Esta es la primera nota(1); y esta la segunda(2).'\n"
     ]
    }
   ],
   "source": [
    "notas_al_pie('Esta es la primera nota*; y esta la segunda*.')"
   ]
  },
  {
   "cell_type": "code",
   "execution_count": 3,
   "metadata": {},
   "outputs": [
    {
     "name": "stdout",
     "output_type": "stream",
     "text": [
      "'Esta frase no tiene notas. Esta otra tampoco.'\n"
     ]
    }
   ],
   "source": [
    "notas_al_pie('Esta frase no tiene notas. Esta otra tampoco.')"
   ]
  },
  {
   "cell_type": "code",
   "execution_count": 4,
   "metadata": {},
   "outputs": [
    {
     "name": "stdout",
     "output_type": "stream",
     "text": [
      "'(1),(2). (3).'\n"
     ]
    }
   ],
   "source": [
    "notas_al_pie('*,*. *.')"
   ]
  },
  {
   "cell_type": "code",
   "execution_count": 5,
   "metadata": {},
   "outputs": [
    {
     "name": "stdout",
     "output_type": "stream",
     "text": [
      "'(1)'\n"
     ]
    }
   ],
   "source": [
    "notas_al_pie('*')"
   ]
  },
  {
   "cell_type": "code",
   "execution_count": 6,
   "metadata": {},
   "outputs": [
    {
     "name": "stdout",
     "output_type": "stream",
     "text": [
      "''\n"
     ]
    }
   ],
   "source": [
    "notas_al_pie('')"
   ]
  },
  {
   "cell_type": "markdown",
   "metadata": {},
   "source": [
    "### EJERCICIO 5 - Calcula Código\n",
    "**Dado un string s que contiene los nombres y apellidos de una persona, diseña\n",
    "la función codigo(s) que devuelva el string ini + str(count), donde ini contiene las iniciales\n",
    "de la persona (las letras mayúsculas de s) y count es el número total de letras de sus nombres\n",
    "y apellidos (es decir, las letras de s sin contar caracteres blancos o espacios).**"
   ]
  },
  {
   "cell_type": "code",
   "execution_count": 7,
   "metadata": {},
   "outputs": [],
   "source": [
    "def codigo(s):\n",
    "    separador = \" \"\n",
    "    name_list = s.split(separador) # la cadena de texto se convierte a lista\n",
    "    slist =[]\n",
    "    string = s.replace(' ','') # se eliminó los espacios de la cadena s\n",
    "    nletras = len(string)       # calcula la longitud o numero de caracteres de la cadena\n",
    "    if string.isalpha(): # evalua si el nombre está compuesto solo con letras del alfabeto\n",
    "        for c in name_list:\n",
    "            ini = c[0].upper() # convertira en mayusculas el primer caracter en caso se ingrese con minuscula\n",
    "            slist.append(ini) # se adiciona en una lista las iniciales de cada palabra\n",
    "        new_string =\"\".join(slist) + str(nletras) # convierte en cadena la lista de las iniciales \n",
    "    else:\n",
    "        new_string = \"\"\n",
    "    print(f\"'{new_string}'\")"
   ]
  },
  {
   "cell_type": "code",
   "execution_count": 8,
   "metadata": {},
   "outputs": [
    {
     "name": "stdout",
     "output_type": "stream",
     "text": [
      "'MBG20'\n"
     ]
    }
   ],
   "source": [
    "codigo('Mireia Belmonte Garcia')"
   ]
  },
  {
   "cell_type": "code",
   "execution_count": 9,
   "metadata": {},
   "outputs": [
    {
     "name": "stdout",
     "output_type": "stream",
     "text": [
      "'BFJS31'\n"
     ]
    }
   ],
   "source": [
    "codigo('Bruce Frederick Joseph Springsteen')"
   ]
  },
  {
   "cell_type": "code",
   "execution_count": 10,
   "metadata": {},
   "outputs": [
    {
     "name": "stdout",
     "output_type": "stream",
     "text": [
      "''\n"
     ]
    }
   ],
   "source": [
    "codigo('')"
   ]
  },
  {
   "cell_type": "code",
   "execution_count": 11,
   "metadata": {},
   "outputs": [
    {
     "name": "stdout",
     "output_type": "stream",
     "text": [
      "'GPB19'\n"
     ]
    }
   ],
   "source": [
    "codigo('Gerard Piqué Bernabéu')"
   ]
  },
  {
   "cell_type": "code",
   "execution_count": 12,
   "metadata": {},
   "outputs": [
    {
     "name": "stdout",
     "output_type": "stream",
     "text": [
      "'SRG17'\n"
     ]
    }
   ],
   "source": [
    "codigo('Sergio Ramos García')"
   ]
  },
  {
   "cell_type": "markdown",
   "metadata": {},
   "source": [
    "### EJERCICIO 6 - Contador de Hidrógenos\n",
    "**Una fórmula química es una representación convencional de los\n",
    "elementos que forman un compuesto. Por ejemplo, el 1-2-butadiol sería C2H5O, que se\n",
    "representa con el string 'C2H5O'. También pueden aparecer elementos químicos de dos\n",
    "caracteres como el calcio Ca en CaCO3 ( 'CaCO3') o el hierro Fe en Fe3O4 ( 'Fe3O4'). En estos\n",
    "casos el segundo carácter del símbolo siempre es una minúscula. Diseña la función \n",
    "contar_hidrogenos(s) que, dado un string s con un compuesto como los descritos antes,\n",
    "devuelve el número de átomos de hidrógeno que contiene. Para simplificar el problema,\n",
    "limitaremos el número que puede seguir el símbolo de un elemento a un valor entre 2 y 9.**"
   ]
  },
  {
   "cell_type": "code",
   "execution_count": 13,
   "metadata": {},
   "outputs": [],
   "source": [
    "def contar_hidrogenos(s):\n",
    "\n",
    "    indice = s.find(\"H\") # busca el indice de la H en la cadena\n",
    "    if indice >= 0: #valida si existe H en la cadena, si este es -1 quiere decir que no encontro H\n",
    "        try:\n",
    "            int(s[indice+1:indice+2]) #valida si es numero entero el caracter delante de la H\n",
    "            nhidrogenos = s[indice+1:indice+2] # extrae el digito entero delante de la H\n",
    "        except ValueError:\n",
    "            nhidrogenos = 1 # asigna valor de 1 cuando no hay digito entero mayor de uno delante de H\n",
    "    else:\n",
    "        nhidrogenos = 0 # asigna 0 cuando no existe H en la cadena\n",
    "    print(nhidrogenos)"
   ]
  },
  {
   "cell_type": "code",
   "execution_count": 14,
   "metadata": {},
   "outputs": [
    {
     "name": "stdout",
     "output_type": "stream",
     "text": [
      "1\n"
     ]
    }
   ],
   "source": [
    "contar_hidrogenos('HIO')"
   ]
  },
  {
   "cell_type": "code",
   "execution_count": 15,
   "metadata": {},
   "outputs": [
    {
     "name": "stdout",
     "output_type": "stream",
     "text": [
      "2\n"
     ]
    }
   ],
   "source": [
    "contar_hidrogenos('H2O')"
   ]
  },
  {
   "cell_type": "code",
   "execution_count": 16,
   "metadata": {},
   "outputs": [
    {
     "name": "stdout",
     "output_type": "stream",
     "text": [
      "5\n"
     ]
    }
   ],
   "source": [
    "contar_hidrogenos('C2H5O')"
   ]
  },
  {
   "cell_type": "code",
   "execution_count": 17,
   "metadata": {},
   "outputs": [
    {
     "name": "stdout",
     "output_type": "stream",
     "text": [
      "0\n"
     ]
    }
   ],
   "source": [
    "contar_hidrogenos('Fe3O4')"
   ]
  },
  {
   "cell_type": "code",
   "execution_count": 18,
   "metadata": {},
   "outputs": [
    {
     "name": "stdout",
     "output_type": "stream",
     "text": [
      "1\n"
     ]
    }
   ],
   "source": [
    "contar_hidrogenos('C2OH')"
   ]
  },
  {
   "cell_type": "markdown",
   "metadata": {},
   "source": [
    "## EJERCICIOS CON LISTAS\n",
    "\n",
    "### EJERCICIO 7- Valor Medio de Temperaturas\n",
    "\n",
    "**Diseña la función mediaTempRang(lst) en que, dada una lista lst de medidas de \n",
    "temperatura en ºC de un experimento, calcule y devuelva el valor medio de aquellas\n",
    "temperaturas de la lista que estén en el rango de 15 a 45 ºC, inclusive [15, 45]. Devolver el\n",
    "resultado redondeado a 2 cifras decimales. También considerar el caso en que ninguna\n",
    "medida de temperatura de la lista esté en el rango dado. En este caso la función devuelve el\n",
    "valor -1.**\n"
   ]
  },
  {
   "cell_type": "code",
   "execution_count": 19,
   "metadata": {},
   "outputs": [],
   "source": [
    "def mediaTempRang(lst):\n",
    "    new_lst =[]\n",
    "    for n in lst:\n",
    "        if  15 <= n <= 45:\n",
    "            new_lst.append(n)    #se agrega temperaturas dentreo del rango condicionado a la nueva lista\n",
    "    if len(new_lst) > 0:        # si la lista tiene mas de un elemento calculara la media\n",
    "        mean = round(sum(new_lst)/len(new_lst),2)\n",
    "    else:    \n",
    "        mean = -1   # de lo contrario le asignara valor de -1\n",
    "    print(mean) "
   ]
  },
  {
   "cell_type": "code",
   "execution_count": 20,
   "metadata": {},
   "outputs": [
    {
     "name": "stdout",
     "output_type": "stream",
     "text": [
      "28.98\n"
     ]
    }
   ],
   "source": [
    "lst1 = [34.5, 12.9, 15, 43, 51.4, 23.4]\n",
    "mediaTempRang(lst1)"
   ]
  },
  {
   "cell_type": "code",
   "execution_count": 21,
   "metadata": {},
   "outputs": [
    {
     "name": "stdout",
     "output_type": "stream",
     "text": [
      "22.9\n"
     ]
    }
   ],
   "source": [
    "lst2 = [45.5, 12.9, 15, 32.5, 51.4, 21.2]\n",
    "mediaTempRang(lst2)"
   ]
  },
  {
   "cell_type": "code",
   "execution_count": 22,
   "metadata": {},
   "outputs": [
    {
     "name": "stdout",
     "output_type": "stream",
     "text": [
      "-1\n"
     ]
    }
   ],
   "source": [
    "lst3 = [14.5, 12.6, 47.8]\n",
    "mediaTempRang(lst3)"
   ]
  },
  {
   "cell_type": "code",
   "execution_count": 23,
   "metadata": {},
   "outputs": [
    {
     "name": "stdout",
     "output_type": "stream",
     "text": [
      "16.0\n"
     ]
    }
   ],
   "source": [
    "lst4 = [15, 16, 14, 50, 17]\n",
    "mediaTempRang(lst4)"
   ]
  },
  {
   "cell_type": "markdown",
   "metadata": {},
   "source": [
    "### EJERCICIO 8 - Detectar la segunda presion que sea de al menos de N dB\n",
    "\n",
    "**El umbral de nivel de presión del sonido (sound pressure level, SPL) del oído humano es\n",
    "aproximadamente de 20 P a frecuencias medias de la voz. Este valor se considera el nivel de \n",
    "presión de sonido (SPL) de referencia, 0 dB (20log\n",
    "10\n",
    "(20/20)). La función SPL_dB(P) recibe una\n",
    "presión acústica en P, y devuelve su equivalente en dB.  \n",
    "Diseñar la función detect2ndNdB(lst, N), en que dada una lista lst de valores de nivel de\n",
    "presión de sonido (SPL) en P, y un valor N (dB), busque y devuelva el valor de la segunda \n",
    "presión SPL que sea al menos de N dB. Por ejemplo, N = 30 dB es el nivel de un susurro en el\n",
    "oído, N = 50 dB es el nivel de una conversación normal, N = 80 dB es el nivel de ruido en una\n",
    "calle con tráfico. En caso de no encontrar una segunda presión SPL se ha de devolver -1. \n",
    "Notas: (i) Se debe usar la función SPL_dB(P) que convierte en dB la presión de entrada en P.\n",
    "(ii) Se debe buscar la 2ª presión de acuerdo a la ubicación en la lista original del argumento. \n",
    "Por ejemplo, en:**\n",
    "\n",
    "detect2ndNdB([90, 590, 750, 632, 650, 660, 2000, 789, 545], 30) \\\n",
    "650 \n",
    "\n",
    "Las presiones marcadas en rojo superan los 30 dB, pero la segunda de la lista original, 650, es \\\n",
    "la que se tiene que devolver.  \n",
    "\n",
    "from math import log10 \\\n",
    "def  SPL_dB(P):\\\n",
    "\"\"\" Calcula Sound Pressure Level en dB: 20log(x/20) x en microPascales \\\n",
    "\"\"\" \\\n",
    "return 20*log10(P/20)"
   ]
  },
  {
   "cell_type": "code",
   "execution_count": 25,
   "metadata": {},
   "outputs": [],
   "source": [
    "def detect2ndNdB(lst, N):\n",
    "    from math import log10\n",
    "  \n",
    "    def SPL_dB(P):     \n",
    "        SPL_NdB = []\n",
    "        for n in P:\n",
    "            NdB = round(20*log10(n/20),2) # Calcula los decibeles a partir de la lst\n",
    "            SPL_NdB.append(NdB)   # se agrega el NdB calculado a la nueva lista\n",
    "        return SPL_NdB\n",
    "\n",
    "    SPL_NdB = SPL_dB(lst) # ejecutamos la funcion SPL_db() y guardamos el resultado en la variable SPL_NdB\n",
    "    lst_NdB = []\n",
    "\n",
    "    for n in SPL_NdB:\n",
    "        if n >= N:\n",
    "            lst_NdB.append(n) # en la nueva lista agregamos los decibeles mayores de N\n",
    "\n",
    "    if len(lst_NdB)>=2: # si al menos existe 2 elementos en la lista se procede \n",
    "        Seg_NdB = lst_NdB[1] # en una nueva variable se guarda el 2° valor de la presion correspondiente al 2° NdB mayor\n",
    "        indice = SPL_NdB.index(Seg_NdB) # se calcula el indice de la segunda posicion de la presion en la lista SPL_NdB\n",
    "        Seg_P = lst[indice] # se obtiene la segunda presion de la lista original con el indice anterior\n",
    "    else:\n",
    "        Seg_P = -1 # en caso la lisa de decibeles mayores a N, tengan menos de 2 elementos se asignaran valor de -1\n",
    "\n",
    "    print(Seg_P)"
   ]
  },
  {
   "cell_type": "code",
   "execution_count": 26,
   "metadata": {},
   "outputs": [
    {
     "name": "stdout",
     "output_type": "stream",
     "text": [
      "650\n"
     ]
    }
   ],
   "source": [
    "detect2ndNdB([90, 590, 750, 632, 650, 900, 2000, 789, 545], 30)"
   ]
  },
  {
   "cell_type": "code",
   "execution_count": 27,
   "metadata": {},
   "outputs": [
    {
     "name": "stdout",
     "output_type": "stream",
     "text": [
      "2000\n"
     ]
    }
   ],
   "source": [
    "detect2ndNdB([90, 590, 750, 632, 650, 900, 2000, 789, 545], 33)"
   ]
  },
  {
   "cell_type": "code",
   "execution_count": 28,
   "metadata": {},
   "outputs": [
    {
     "name": "stdout",
     "output_type": "stream",
     "text": [
      "-1\n"
     ]
    }
   ],
   "source": [
    "detect2ndNdB([90, 590, 750, 632, 630, 600, 200, 589, 545], 30)"
   ]
  },
  {
   "cell_type": "code",
   "execution_count": 29,
   "metadata": {},
   "outputs": [
    {
     "name": "stdout",
     "output_type": "stream",
     "text": [
      "2500000.0\n"
     ]
    }
   ],
   "source": [
    "detect2ndNdB([9e3, 1e4, 1.1e5, 2.2e5, 1.3e6, 2.5e6, 3.2e6], 83)"
   ]
  },
  {
   "cell_type": "code",
   "execution_count": 30,
   "metadata": {},
   "outputs": [
    {
     "name": "stdout",
     "output_type": "stream",
     "text": [
      "-1\n"
     ]
    }
   ],
   "source": [
    "detect2ndNdB([2000, 2450.5, 2500 , 456.7, 1567.8], 42)"
   ]
  },
  {
   "cell_type": "markdown",
   "metadata": {},
   "source": [
    "### EJERCICIO 9 - Primos pitagóricos\n",
    "\n",
    "**Diseña la función primoPitagoric2(lst) en que, dada una lista de números enteros positivos no repetidos, devuelva una lista con los 2 primeros números primos pitagóricos. Si no hubiera al menos 2 primos pitagóricos la función devuelve -1\n",
    "Un número primo es pitagórico si se puede escribir como la suma de dos cuadrados. Por ejemplo 5 = 2^2+1^1 o 13 = 2^2 + 3^2. Fermat demostró que un primo pitagórico p es igual a 4k + 1, para algún valor de k entero positivo. Esta condición se puede expresar como: un número primo p es pitagórico si p modulo 4 es igual a 1, es decir si el residuo de dividir p entre 4 es 1.**\n",
    "\n",
    "Se debe usar la función es_primo(n) para evaluar si un número es primo o no. \n",
    "\n",
    "def es_primo(n):\\\n",
    "     if n <= 1: return False\\\n",
    "      for d in range(2, n//2+1):\\\n",
    "          if n % d == 0:\\\n",
    "              return False\\\n",
    "      return True "
   ]
  },
  {
   "cell_type": "code",
   "execution_count": 31,
   "metadata": {},
   "outputs": [],
   "source": [
    "def primoPitagoric2(lst):\n",
    "    \n",
    "    def es_primo(n): #funcion que te dice si es primo o no\n",
    "        if n <= 1: return False #condicion si el numero ingresado es positivo y mayor que cero\n",
    "        for d in range(2, n//2+1): #iteracion for para el rango que inicia en 2 hasta el entero de n mas 1 devuelve False o True\n",
    "            if n % d == 0: return False  \n",
    "        return True \n",
    "    \n",
    "    lst_primos = []\n",
    "    for i in lst:\n",
    "        if es_primo(i) == True: lst_primos.append(i) #evalua numero primo y lo agrega a la lista de primos si es true\n",
    "    lst_primos = list(set(lst_primos))   # convertimos la lista en conjunto de elementos que no se repitan \n",
    "    \n",
    "\n",
    "    lst_pitagoric = []\n",
    "    if len(lst_primos) > 0: # validamos si la lista tiene elementos\n",
    "        for p in lst_primos: \n",
    "            if p % 4 == 1: lst_pitagoric.append(p) #validamos el numero pitagorico con el modulo de p con resto 1\n",
    "\n",
    "    if len(lst_pitagoric) >= 2:    # verificamos si la lista es mayor de 2 elementos como minimo\n",
    "        lst_pitagoric.sort()      # ordena la lista con los numeros pitagoricos\n",
    "        Lp = lst_pitagoric[0:2]   # extrae los dos primeros elementos de la lista\n",
    "    else:\n",
    "        Lp = -1\n",
    "    return Lp # retornara una lista de dos elementos o -1 si no hay elementos suficientes en la lista"
   ]
  },
  {
   "cell_type": "code",
   "execution_count": 32,
   "metadata": {},
   "outputs": [
    {
     "name": "stdout",
     "output_type": "stream",
     "text": [
      "[5, 13]\n"
     ]
    }
   ],
   "source": [
    "print(primoPitagoric2([3, 4, 5, 6, 7, 7, 8, 9, 10, 11, 12, 13]))"
   ]
  },
  {
   "cell_type": "code",
   "execution_count": 33,
   "metadata": {},
   "outputs": [
    {
     "name": "stdout",
     "output_type": "stream",
     "text": [
      "[5, 13]\n"
     ]
    }
   ],
   "source": [
    "print(primoPitagoric2([5, 9, 13, 17, 21, 25, 29, 33, 37, 41]))"
   ]
  },
  {
   "cell_type": "code",
   "execution_count": 34,
   "metadata": {},
   "outputs": [
    {
     "name": "stdout",
     "output_type": "stream",
     "text": [
      "[41, 53]\n"
     ]
    }
   ],
   "source": [
    "print(primoPitagoric2([41, 45, 49, 53, 57, 61, 65, 69, 73, 77, 81]))"
   ]
  },
  {
   "cell_type": "code",
   "execution_count": 35,
   "metadata": {},
   "outputs": [
    {
     "name": "stdout",
     "output_type": "stream",
     "text": [
      "-1\n"
     ]
    }
   ],
   "source": [
    "print(primoPitagoric2([3, 4, 5, 6, 7, 8, 9, 10]))"
   ]
  },
  {
   "cell_type": "code",
   "execution_count": 36,
   "metadata": {},
   "outputs": [
    {
     "name": "stdout",
     "output_type": "stream",
     "text": [
      "[89, 97]\n"
     ]
    }
   ],
   "source": [
    "print(primoPitagoric2([81, 85, 89, 93, 97, 101, 105, 109, 113, 117, 121]))"
   ]
  },
  {
   "cell_type": "markdown",
   "metadata": {},
   "source": [
    "# EJERCICIOS DE LISTAS DE LISTAS\n",
    "## Ejercicio 10: Contar Positivos\n",
    "\n",
    "Dada una lista de listas que representa una matriz cuadrada m, diseña una función contar_pos(m), que cuente los números positivos que tiene. Ejemplo:\n",
    "#### >>> contar_pos([[1, -2, 3],[-4,5,6],[7,8,-9]])\n",
    "6\n"
   ]
  },
  {
   "cell_type": "code",
   "execution_count": 10,
   "metadata": {},
   "outputs": [
    {
     "name": "stdout",
     "output_type": "stream",
     "text": [
      "6\n"
     ]
    }
   ],
   "source": [
    "#--EJERCICIO 10 PRIMOS  CONTAR EL NUMERO DE POSITIVOS \n",
    "\n",
    "def contar_pos(m):\n",
    "     pos =[]\n",
    "     for j in m:\n",
    "         if len(j)>0:\n",
    "             for x in j:\n",
    "                 if x>0: pos.append(x)\n",
    "     print(len(pos))\n",
    "\n",
    "contar_pos([[1, -2, 3],[-4,5,6],[7,8,-9]])"
   ]
  },
  {
   "cell_type": "markdown",
   "metadata": {},
   "source": [
    "## Ejercicio 11: Mayor densidad\n",
    "Se dispone del nombre, masa y volumen de un planeta almacenado en una lista: [nombre, masa, volumen]. Además, se tiene una lista de planetas como una lista de listas de la forma: [[nombre1, masa1, volumen1], [nombre2, masa2, volumen2], ...].\n",
    "Diseña la función mas_denso(Lst), en que dada una lista de planetas Lst, nos devuelva el nombre del planeta más denso de esa lista. Si hubiera más de uno con la misma densidad, se devuelve el primero que encuentre en la lista original. Ejemplo:\n",
    "### >>> mas_denso( [ [ 'Marte', 1, 2 ], [ 'Tierra', 2, 3 ], [ 'Venus', 1, 3 ] ] )\n",
    "'Tierra'"
   ]
  },
  {
   "cell_type": "code",
   "execution_count": 37,
   "metadata": {},
   "outputs": [],
   "source": [
    "#---EJERCICIO 11 PRIMOS MAYOR DENSIDAD--------------------------------------------------------------\n",
    "\n",
    "def mas_denso(Lst):\n",
    "     try:\n",
    "         denso =[]\n",
    "         for j in Lst:\n",
    "                 d = j[1]/j[2] # calcula la densidad del planeta de cada sublista\n",
    "                 denso.append(d)\n",
    "         Mx_d = max(denso) # extraemos el planeta mas denso de la lista de planetas\n",
    "         i = denso.index(Mx_d) #extraemos el indice de posicion del planeta mas denso\n",
    "         Planeta = Lst[i][0] # ubicamos la lista del planeta con el indice anterior y extraemos el nombre de la posicion 0\n",
    "     except:\n",
    "         Planeta = \"Ingrese Correctamente\"\n",
    "     print(Planeta)   "
   ]
  },
  {
   "cell_type": "code",
   "execution_count": 31,
   "metadata": {},
   "outputs": [
    {
     "name": "stdout",
     "output_type": "stream",
     "text": [
      "Tierra\n"
     ]
    }
   ],
   "source": [
    "mas_denso([['Marte', 1, 2],['Tierra',2,3],['Venus',1,3]])"
   ]
  },
  {
   "cell_type": "code",
   "execution_count": 33,
   "metadata": {},
   "outputs": [
    {
     "name": "stdout",
     "output_type": "stream",
     "text": [
      "Tierra\n"
     ]
    }
   ],
   "source": [
    "mas_denso([['Marte', 1, 2],['Niviru',2,3],['Venus',1,3],['Tierra',2,2.5]])"
   ]
  },
  {
   "cell_type": "code",
   "execution_count": 35,
   "metadata": {},
   "outputs": [
    {
     "name": "stdout",
     "output_type": "stream",
     "text": [
      "Niviru\n"
     ]
    }
   ],
   "source": [
    "mas_denso([['Marte', 1, 2],['Niviru',2,3]])"
   ]
  },
  {
   "cell_type": "code",
   "execution_count": 36,
   "metadata": {},
   "outputs": [
    {
     "name": "stdout",
     "output_type": "stream",
     "text": [
      "Marte\n"
     ]
    }
   ],
   "source": [
    "mas_denso([['Marte', 1, 2]])"
   ]
  },
  {
   "cell_type": "markdown",
   "metadata": {},
   "source": [
    "## Ejercicio 12: Futbol\n",
    "Se dispone en una lista (equipo) de listas (jugadores) con los registros de los jugadores. En cada registro se guarda: su número de dorsal, nombre, si es comunitario o no (booleano, comunitario: True), edad y la distancia recorrida en kilómetros en los partidos jugados en el último mes.\n",
    "No todos los jugadores han jugado todos los partidos del mes, por lo que aparecerá solo la distancia recorrida de los partidos jugados.\n",
    "Diseñar una función jugComKm(equipo, x) en que, dada una lista de un equipo de futbol y un número x de kilómetros recorridos, nos devuelva la lista de nombres de los jugadores comunitarios que han recorrido de media (promedio) más de x km en los partidos jugados.\n",
    "De no encontrarse jugadores con este recorrido, se devolverá la lista vacía.\n",
    "Notas: pudiera haber algún jugador sin partidos jugados y en este caso el promedio lo consideramos 0.\n",
    "Se valorará devolver la lista de nombres ordenada alfabéticamente.\n",
    "def jugComKm(lst, x):\n",
    "Ejemplo:\n",
    "\n",
    "   #### >>> lst_equipo = [ [3, 'Pique', True, 33, 10.2, 9.0], \\\n",
    "                [4, 'Ramos', True, 34, 11.0, 11.1, 9.8, 8.5], \\\n",
    "                [6, 'Koke', True, 27, 7.5, 9.6, 10.3, 6.5, 5.6], \\\n",
    "                [7, 'Joao', True, 25, 10.5, 8.4, 9.0, 8.6], \\\n",
    "                [8, 'Saul', True, 24, 9.5, 8.9, 10.0, 9.6], \\\n",
    "                [9, 'Suarez', False, 33, 8.6, 7.5], \\\n",
    "                [10, 'Lionel', False, 33, 10.0, 11.1, 9.8, 8.5,10.1], \\\n",
    "                [19, 'Odriozola', True, 25, 9.5], \\\n",
    "                [14, 'Araujo', False, 21, 8.9, 9.5], \\\n",
    "                [15, 'Valverde', False, 22, 9.9, 10.2], \\\n",
    "                [16, 'Pedri', True, 18, 10.5, 11, 9.5, 10.6], \\\n",
    "                [22, 'Hermoso', False, 23, 10, 7.5, 6.6], \\\n",
    "                [23, 'Iago', True, 33, 11.1, 9.0, 9.3, 8.8]]\n",
    "#### >>> jugComKm(lst_equipo, 10)\n",
    "['Pedri', 'Ramos']\n",
    "#### >>> jugComKm(lst_equipo, 10.2)\n",
    "['Pedri']\n",
    "#### >>> jugComKm(lst_equipo, 10.5)\n",
    "[ ]\n",
    "#### >>> jugComKm(lst_equipo, 9.5)\n",
    "['Iago', 'Pedri', 'Pique', 'Ramos']\n",
    "#### >>> jugComKm(lst_equipo, 9.4)\n",
    "['Iago', 'Odriozola', 'Pedri', 'Pique', 'Ramos', 'Saul']\n"
   ]
  },
  {
   "cell_type": "code",
   "execution_count": 28,
   "metadata": {},
   "outputs": [],
   "source": [
    "#---EJERCICIO 12 FUTBOL----------------------------\n",
    "\n",
    "def jugComKm(equipo, x):\n",
    "         filtro =[]\n",
    "         for j in equipo: \n",
    "             if len(j[4:]) != 0: # validamos si existe km recorridos por el jugador en la posicion 4 de la lista\n",
    "                 d = round(sum(j[4:])/len(j[4:]),2) # redondeo del calculo del promedio de los kilometros recorridos por jugador\n",
    "             else:\n",
    "                 d = 0\n",
    "             if  d > x and j[2] == True: # validamos si el valor X ingresado es mayor que la media calculada y ademas si es comunitario\n",
    "                 filtro.append(j[1]) # agragamos a la lista los resultados del paso anterior\n",
    "         print(sorted(filtro))   # ordena la lista resultante\n",
    "    \n",
    "lst_equipo = [[3, 'Pique', True, 33, 10.2, 9.0], \\\n",
    "               [4, 'Ramos', True, 34, 11.0, 11.1, 9.8, 8.5], \\\n",
    "               [6, 'Koke', True, 27, 7.5, 9.6, 10.3, 6.5, 5.6], \\\n",
    "               [7, 'Joao',  True, 25, 10.5, 8.4, 9.0, 8.6], \\\n",
    "               [8, 'Saul', True, 24, 9.5, 8.9, 10.0, 9.6], \\\n",
    "               [9, 'Suarez', False, 33, 8.6, 7.5], \\\n",
    "               [10, 'Lionel', False, 33, 10.0, 11.1, 9.8, 8.5,10.1], \\\n",
    "               [19, 'Odriozola', True, 25, 9.5], \\\n",
    "               [14, 'Araujo', False, 21, 8.9, 9.5], \\\n",
    "               [15, 'Valverde', False, 22, 9.9, 10.2], \\\n",
    "               [16, 'Pedri', True, 18, 10.5, 11, 9.5, 10.6], \\\n",
    "               [22, 'Hermoso', False, 23, 10, 7.5, 6.6], \\\n",
    "               [23, 'Iago', True, 33, 11.1, 9.0, 9.3, 8.8]]"
   ]
  },
  {
   "cell_type": "code",
   "execution_count": 22,
   "metadata": {},
   "outputs": [
    {
     "name": "stdout",
     "output_type": "stream",
     "text": [
      "['Pedri', 'Ramos']\n"
     ]
    }
   ],
   "source": [
    "jugComKm(lst_equipo, 10)"
   ]
  },
  {
   "cell_type": "code",
   "execution_count": 23,
   "metadata": {},
   "outputs": [
    {
     "name": "stdout",
     "output_type": "stream",
     "text": [
      "['Pedri']\n"
     ]
    }
   ],
   "source": [
    "jugComKm(lst_equipo, 10.2)"
   ]
  },
  {
   "cell_type": "code",
   "execution_count": 24,
   "metadata": {},
   "outputs": [
    {
     "name": "stdout",
     "output_type": "stream",
     "text": [
      "[]\n"
     ]
    }
   ],
   "source": [
    "jugComKm(lst_equipo, 10.5)"
   ]
  },
  {
   "cell_type": "code",
   "execution_count": 25,
   "metadata": {},
   "outputs": [
    {
     "name": "stdout",
     "output_type": "stream",
     "text": [
      "['Iago', 'Pedri', 'Pique', 'Ramos']\n"
     ]
    }
   ],
   "source": [
    "jugComKm(lst_equipo, 9.5)"
   ]
  },
  {
   "cell_type": "code",
   "execution_count": 26,
   "metadata": {},
   "outputs": [
    {
     "name": "stdout",
     "output_type": "stream",
     "text": [
      "['Iago', 'Odriozola', 'Pedri', 'Pique', 'Ramos', 'Saul']\n"
     ]
    }
   ],
   "source": [
    "jugComKm(lst_equipo, 9.4)"
   ]
  },
  {
   "cell_type": "code",
   "execution_count": null,
   "metadata": {},
   "outputs": [],
   "source": []
  }
 ],
 "metadata": {
  "kernelspec": {
   "display_name": "Python 3",
   "language": "python",
   "name": "python3"
  },
  "language_info": {
   "codemirror_mode": {
    "name": "ipython",
    "version": 3
   },
   "file_extension": ".py",
   "mimetype": "text/x-python",
   "name": "python",
   "nbconvert_exporter": "python",
   "pygments_lexer": "ipython3",
   "version": "3.7.11"
  }
 },
 "nbformat": 4,
 "nbformat_minor": 4
}
